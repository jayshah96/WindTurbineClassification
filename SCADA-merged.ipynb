{
 "cells": [
  {
   "cell_type": "markdown",
   "metadata": {},
   "source": [
    " # Combining multiple csv files containing data into a single file"
   ]
  },
  {
   "cell_type": "markdown",
   "metadata": {},
   "source": [
    " ## SCADA"
   ]
  },
  {
   "cell_type": "code",
   "execution_count": 1,
   "metadata": {},
   "outputs": [],
   "source": [
    "import pandas as pd # import libraries\n",
    "import numpy as np\n",
    "import itertools\n"
   ]
  },
  {
   "cell_type": "code",
   "execution_count": 2,
   "metadata": {},
   "outputs": [],
   "source": [
    "# import data - versions 1 (old) and 2 (new)\n",
    "df_v11=pd.read_csv('DATA/Last_six_months_SCADA.csv',skip_blank_lines=True)\n",
    "df_v12=pd.read_csv('DATA/Prior_two_years_SCADA.csv',skip_blank_lines=True)\n",
    "df_v21=pd.read_csv('DATA/NS_SCADA_v2.csv',skip_blank_lines=True)\n",
    "df_v22=pd.read_csv('DATA/NS_SCADA_2017_v2.csv',skip_blank_lines=True)\n"
   ]
  },
  {
   "cell_type": "code",
   "execution_count": 3,
   "metadata": {},
   "outputs": [
    {
     "data": {
      "text/plain": [
       "(timestamp          object\n",
       " turbine             int64\n",
       " ap_av             float64\n",
       " ap_dev            float64\n",
       " ap_max            float64\n",
       " reactive_power    float64\n",
       " ws_av             float64\n",
       " ws_1              float64\n",
       " ws_2              float64\n",
       " wd_av             float64\n",
       " wd_1              float64\n",
       " wd_2              float64\n",
       " gen_sp            float64\n",
       " rs_av             float64\n",
       " nac_pos           float64\n",
       " pitch             float64\n",
       " runtime           float64\n",
       " dtype: object, timestamp          object\n",
       " turbine             int64\n",
       " ap_av             float64\n",
       " ap_dev            float64\n",
       " ap_min            float64\n",
       " reactive_power    float64\n",
       " ws_av             float64\n",
       " ws_1              float64\n",
       " ws_2              float64\n",
       " wd_av             float64\n",
       " wd_1              float64\n",
       " wd_2              float64\n",
       " gen_sp            float64\n",
       " rs_av             float64\n",
       " nac_pos           float64\n",
       " pitch             float64\n",
       " runtime           float64\n",
       " dtype: object, timestamp          object\n",
       " turbine_id          int64\n",
       " ap_av             float64\n",
       " ap_dev            float64\n",
       " ap_max              int64\n",
       " reactive_power    float64\n",
       " ws_av             float64\n",
       " ws_1              float64\n",
       " ws_2              float64\n",
       " wd_av             float64\n",
       " wd_1              float64\n",
       " wd_2              float64\n",
       " gen_sp            float64\n",
       " rs_av             float64\n",
       " nac_pos           float64\n",
       " pitch             float64\n",
       " dtype: object, timestamp          object\n",
       " turbine_id          int64\n",
       " ap_av             float64\n",
       " ap_dev            float64\n",
       " ap_max              int64\n",
       " reactive_power    float64\n",
       " ws_av             float64\n",
       " ws_1              float64\n",
       " ws_2              float64\n",
       " wd_av             float64\n",
       " wd_1              float64\n",
       " wd_2              float64\n",
       " gen_sp            float64\n",
       " rs_av             float64\n",
       " nac_pos           float64\n",
       " pitch             float64\n",
       " dtype: object)"
      ]
     },
     "execution_count": 3,
     "metadata": {},
     "output_type": "execute_result"
    }
   ],
   "source": [
    "# return columns and their dtypes for each dataframe\n",
    "df_v11.dtypes,df_v12.dtypes,df_v21.dtypes,df_v22.dtypes\n"
   ]
  },
  {
   "cell_type": "code",
   "execution_count": 5,
   "metadata": {},
   "outputs": [
    {
     "data": {
      "text/plain": [
       "((651600, 17), (2550346, 17), (3064604, 16), (543425, 16))"
      ]
     },
     "execution_count": 5,
     "metadata": {},
     "output_type": "execute_result"
    }
   ],
   "source": [
    "# return shapes of each dataframe\n",
    "df_v11.shape,df_v12.shape,df_v21.shape,df_v22.shape\n"
   ]
  },
  {
   "cell_type": "code",
   "execution_count": 6,
   "metadata": {},
   "outputs": [],
   "source": [
    "# rename ap_min in df_v12 to ap_max\n",
    "df_v12.rename(columns={'ap_min':'ap_max'},inplace=True)\n"
   ]
  },
  {
   "cell_type": "code",
   "execution_count": 7,
   "metadata": {},
   "outputs": [],
   "source": [
    "# fixing rotor speed readings due to errors in data\n",
    "def f_m1(c): # define function to merge some old rotor speed readings with new data\n",
    "    if c['turbine']<=20:\n",
    "        return c['rs_av']\n",
    "df_v11['rs_av_old']=df_v11.apply(f_m1,axis=1)\n",
    "df_v12['rs_av_old']=df_v12.apply(f_m1,axis=1)\n"
   ]
  },
  {
   "cell_type": "code",
   "execution_count": 8,
   "metadata": {},
   "outputs": [],
   "source": [
    "df_v11=df_v11.drop('rs_av',axis=1) # delete original columns\n",
    "df_v12=df_v12.drop('rs_av',axis=1)\n"
   ]
  },
  {
   "cell_type": "code",
   "execution_count": 9,
   "metadata": {},
   "outputs": [],
   "source": [
    "# concatenate two df_v1 to one\n",
    "df_v1=pd.concat([df_v11,df_v12]) # old SCADA\n",
    "df_v2=pd.concat([df_v21,df_v22]) # new SCADA\n",
    "del df_v11,df_v12,df_v21,df_v22 # delete concatenated dataframes from memory\n"
   ]
  },
  {
   "cell_type": "code",
   "execution_count": 10,
   "metadata": {},
   "outputs": [],
   "source": [
    "df_v2['timestamp']=pd.to_datetime(df_v2['timestamp']) # convert timestamp to datetime dtype\n",
    "df_v1['timestamp']=pd.to_datetime(df_v1['timestamp'],dayfirst=True)\n"
   ]
  },
  {
   "cell_type": "code",
   "execution_count": 11,
   "metadata": {},
   "outputs": [],
   "source": [
    "# filter data so that the latest timestamp is the same for both old and new datasets\n",
    "df_v2=df_v2[df_v2.timestamp<='2017-04-30 23:50:00.000']\n"
   ]
  },
  {
   "cell_type": "code",
   "execution_count": 12,
   "metadata": {},
   "outputs": [],
   "source": [
    "df_v2.rename(columns={'turbine_id':'turbine'},inplace=True) # rename columns \n",
    "df_v2.rename(columns={'rs_av':'rs_av_new'},inplace=True)\n"
   ]
  },
  {
   "cell_type": "code",
   "execution_count": 13,
   "metadata": {},
   "outputs": [],
   "source": [
    "df_v2=df_v2.sort_values(['timestamp','turbine']) # sort values and drop duplicates\n",
    "df_v1=df_v1.sort_values(['timestamp','turbine'])\n",
    "df_v2=df_v2.drop_duplicates(['timestamp','turbine'],keep='first')\n",
    "df_v1=df_v1.drop_duplicates(['timestamp','turbine'],keep='first')\n"
   ]
  },
  {
   "cell_type": "code",
   "execution_count": 14,
   "metadata": {},
   "outputs": [],
   "source": [
    "tmstmp=list(pd.date_range('2014-11-01 00:00:00','2017-04-30 23:50:00',freq='10min')) # fill missing rows in time series\n",
    "trbn=range(1,26) # 1 to 25, for each of the 25 turbines\n",
    "newcols=list(itertools.product(tmstmp,trbn))\n",
    "df_cols=pd.DataFrame(newcols)\n",
    "df_cols.columns=['timestamp','turbine']\n",
    "df_v2['ap_max']=df_v2['ap_max'].astype(np.float64)\n",
    "df_v1_cols=pd.merge(df_v1,df_cols,on=['timestamp','turbine'],how='outer')\n",
    "del df_v1,df_cols\n"
   ]
  },
  {
   "cell_type": "code",
   "execution_count": 15,
   "metadata": {},
   "outputs": [],
   "source": [
    "# merge old and new data by these columns\n",
    "df_scada=pd.merge(df_v1_cols,df_v2,on=['timestamp','turbine','ws_av','wd_av','ws_1','ws_2','wd_1','wd_2','gen_sp','pitch',\n",
    "                          'reactive_power','ap_max','ap_dev','ap_av','nac_pos'],how='outer')\n",
    "del df_v1_cols,df_v2\n"
   ]
  },
  {
   "cell_type": "code",
   "execution_count": 16,
   "metadata": {},
   "outputs": [],
   "source": [
    "df_scada=df_scada.sort_values(['timestamp','turbine']) #sort and drop duplicates again\n",
    "df_scada=df_scada.drop_duplicates(['timestamp','turbine'],keep='first')\n"
   ]
  },
  {
   "cell_type": "code",
   "execution_count": 17,
   "metadata": {},
   "outputs": [],
   "source": [
    "def f_m2(c): # merge rotor speed readings\n",
    "    if c['rs_av_new']>=0:\n",
    "        return c['rs_av_new']\n",
    "    else:\n",
    "        return c['rs_av_old']\n",
    "df_scada['rs_av']=df_scada.apply(f_m2,axis=1)\n"
   ]
  },
  {
   "cell_type": "code",
   "execution_count": 18,
   "metadata": {},
   "outputs": [],
   "source": [
    "df_scada=df_scada.drop('rs_av_old',axis=1) # drop old columns and reset index\n",
    "df_scada=df_scada.drop('rs_av_new',axis=1)\n",
    "df_scada.reset_index(drop=True,inplace=True)\n"
   ]
  },
  {
   "cell_type": "code",
   "execution_count": 19,
   "metadata": {},
   "outputs": [
    {
     "data": {
      "text/plain": [
       "timestamp         datetime64[ns]\n",
       "turbine                    int64\n",
       "ap_av                    float64\n",
       "ap_dev                   float64\n",
       "ap_max                   float64\n",
       "reactive_power           float64\n",
       "ws_av                    float64\n",
       "ws_1                     float64\n",
       "ws_2                     float64\n",
       "wd_av                    float64\n",
       "wd_1                     float64\n",
       "wd_2                     float64\n",
       "gen_sp                   float64\n",
       "nac_pos                  float64\n",
       "pitch                    float64\n",
       "runtime                  float64\n",
       "rs_av                    float64\n",
       "dtype: object"
      ]
     },
     "execution_count": 19,
     "metadata": {},
     "output_type": "execute_result"
    }
   ],
   "source": [
    "df_scada.dtypes\n"
   ]
  },
  {
   "cell_type": "code",
   "execution_count": 20,
   "metadata": {},
   "outputs": [
    {
     "data": {
      "text/plain": [
       "(3283200, 17)"
      ]
     },
     "execution_count": 20,
     "metadata": {},
     "output_type": "execute_result"
    }
   ],
   "source": [
    "# return dataframe shape\n",
    "df_scada.shape\n"
   ]
  },
  {
   "cell_type": "code",
   "execution_count": 24,
   "metadata": {},
   "outputs": [],
   "source": [
    "df_scada.to_csv('DATA/SCADA_merged.csv',index=False) # write to new csv file\n",
    "del df_scada\n"
   ]
  },
  {
   "cell_type": "code",
   "execution_count": 25,
   "metadata": {},
   "outputs": [],
   "source": []
  }
 ],
 "metadata": {
  "file_extension": ".py",
  "kernelspec": {
   "display_name": "Python 3",
   "language": "python",
   "name": "python3"
  },
  "language_info": {
   "codemirror_mode": {
    "name": "ipython",
    "version": 3
   },
   "file_extension": ".py",
   "mimetype": "text/x-python",
   "name": "python",
   "nbconvert_exporter": "python",
   "pygments_lexer": "ipython3",
   "version": "3.7.3"
  },
  "mimetype": "text/x-python",
  "name": "python",
  "npconvert_exporter": "python",
  "pygments_lexer": "ipython3",
  "version": 3
 },
 "nbformat": 4,
 "nbformat_minor": 2
}
