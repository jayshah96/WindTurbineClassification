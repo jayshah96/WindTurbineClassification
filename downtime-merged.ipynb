{
 "cells": [
  {
   "cell_type": "markdown",
   "metadata": {},
   "source": [
    " # Combining multiple csv files containing data into a single file"
   ]
  },
  {
   "cell_type": "markdown",
   "metadata": {},
   "source": [
    " ## Downtime"
   ]
  },
  {
   "cell_type": "code",
   "execution_count": 1,
   "metadata": {},
   "outputs": [],
   "source": [
    "import pandas as pd # import libraries\n"
   ]
  },
  {
   "cell_type": "code",
   "execution_count": 2,
   "metadata": {},
   "outputs": [],
   "source": [
    "# import data as dataframes\n",
    "df_lsm=pd.read_csv('DATA/Last_six_months_downtime.csv',skip_blank_lines=True)\n",
    "df_pty=pd.read_csv('DATA/Prior_two_years_downtime.csv',skip_blank_lines=True)\n"
   ]
  },
  {
   "cell_type": "code",
   "execution_count": 3,
   "metadata": {},
   "outputs": [],
   "source": [
    "# drop duplicate columns in data\n",
    "df_pty=df_pty.drop('AvailabilityCategory_id.1',axis=1)\n",
    "df_pty=df_pty.drop('EnvironmentalCategory_id.1',axis=1)\n",
    "df_pty=df_pty.drop('GridCategory_id.1',axis=1)\n",
    "df_pty=df_pty.drop('InfrastructureCategory_id.1',axis=1)\n",
    "df_pty=df_pty.drop('TurbineCategory_id.1',axis=1)\n",
    "df_pty=df_pty.drop('alarm_id.1',axis=1)\n",
    "df_pty=df_pty.drop('comment.1',axis=1)\n",
    "df_pty=df_pty.drop('id.1',axis=1)\n",
    "df_pty=df_pty.drop('workorder_id.1',axis=1)\n",
    "df_pty=df_pty.drop('turbine_id.1',axis=1)\n",
    "df_pty=df_pty.drop('timestamp_end.1',axis=1)\n",
    "df_pty=df_pty.drop('timestamp_start.1',axis=1)\n"
   ]
  },
  {
   "cell_type": "code",
   "execution_count": 4,
   "metadata": {},
   "outputs": [],
   "source": [
    "# convert timestamps to datetime dtype\n",
    "df_lsm['timestamp_start']=pd.to_datetime(df_lsm['timestamp_start'])\n",
    "df_lsm['timestamp_end']=pd.to_datetime(df_lsm['timestamp_end'])\n",
    "df_pty['timestamp_start']=pd.to_datetime(df_pty['timestamp_start'])\n",
    "df_pty['timestamp_end']=pd.to_datetime(df_pty['timestamp_end'])\n"
   ]
  },
  {
   "cell_type": "code",
   "execution_count": 5,
   "metadata": {},
   "outputs": [],
   "source": [
    "# concatenate both dataframes\n",
    "df_dwntm=pd.concat([df_lsm,df_pty]) \n",
    "del df_lsm,df_pty\n"
   ]
  },
  {
   "cell_type": "code",
   "execution_count": 6,
   "metadata": {},
   "outputs": [],
   "source": [
    "# sort by timestamp, then by turbine \n",
    "df_dwntm=df_dwntm.sort_values(['timestamp_start','timestamp_end','turbine_id'])\n"
   ]
  },
  {
   "cell_type": "code",
   "execution_count": 7,
   "metadata": {},
   "outputs": [],
   "source": [
    "# reset index after sort\n",
    "df_dwntm.reset_index(drop=True,inplace=True)\n"
   ]
  },
  {
   "cell_type": "code",
   "execution_count": 8,
   "metadata": {},
   "outputs": [],
   "source": [
    "# save dataframe as new csv\n",
    "df_dwntm.to_csv('DATA/downtime_merged.csv',index=False)\n",
    "del df_dwntm"
   ]
  },
  {
   "cell_type": "code",
   "execution_count": 9,
   "metadata": {},
   "outputs": [],
   "source": []
  }
 ],
 "metadata": {
  "file_extension": ".py",
  "kernelspec": {
   "display_name": "Python 3",
   "language": "python",
   "name": "python3"
  },
  "language_info": {
   "codemirror_mode": {
    "name": "ipython",
    "version": 3
   },
   "file_extension": ".py",
   "mimetype": "text/x-python",
   "name": "python",
   "nbconvert_exporter": "python",
   "pygments_lexer": "ipython3",
   "version": "3.7.3"
  },
  "mimetype": "text/x-python",
  "name": "python",
  "npconvert_exporter": "python",
  "pygments_lexer": "ipython3",
  "version": 3
 },
 "nbformat": 4,
 "nbformat_minor": 2
}
